{
 "cells": [
  {
   "cell_type": "markdown",
   "id": "fe72edd1",
   "metadata": {},
   "source": [
    "# Joinplot y Pairplot"
   ]
  },
  {
   "cell_type": "markdown",
   "id": "0a1e7524",
   "metadata": {},
   "source": []
  }
 ],
 "metadata": {
  "language_info": {
   "name": "python"
  }
 },
 "nbformat": 4,
 "nbformat_minor": 5
}
