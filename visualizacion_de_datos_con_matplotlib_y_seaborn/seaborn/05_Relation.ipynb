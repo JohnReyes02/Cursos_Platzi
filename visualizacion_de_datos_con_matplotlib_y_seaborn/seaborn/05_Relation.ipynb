{
 "cells": [
  {
   "cell_type": "markdown",
   "id": "36c0406b",
   "metadata": {},
   "source": [
    "# Relación"
   ]
  },
  {
   "cell_type": "markdown",
   "id": "14470340",
   "metadata": {},
   "source": []
  }
 ],
 "metadata": {
  "language_info": {
   "name": "python"
  }
 },
 "nbformat": 4,
 "nbformat_minor": 5
}
