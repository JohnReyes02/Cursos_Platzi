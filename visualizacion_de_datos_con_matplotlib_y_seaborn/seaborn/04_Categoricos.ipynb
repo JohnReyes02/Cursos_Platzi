{
 "cells": [
  {
   "cell_type": "markdown",
   "id": "2508c60f",
   "metadata": {},
   "source": [
    "# Categóricos"
   ]
  },
  {
   "cell_type": "markdown",
   "id": "19cec934",
   "metadata": {},
   "source": []
  }
 ],
 "metadata": {
  "language_info": {
   "name": "python"
  }
 },
 "nbformat": 4,
 "nbformat_minor": 5
}
