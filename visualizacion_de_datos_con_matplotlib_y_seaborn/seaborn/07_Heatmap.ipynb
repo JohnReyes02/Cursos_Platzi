{
 "cells": [
  {
   "cell_type": "markdown",
   "id": "696afb66",
   "metadata": {},
   "source": [
    "# Heatmap"
   ]
  },
  {
   "cell_type": "markdown",
   "id": "46a3dcd7",
   "metadata": {},
   "source": []
  }
 ],
 "metadata": {
  "language_info": {
   "name": "python"
  }
 },
 "nbformat": 4,
 "nbformat_minor": 5
}
